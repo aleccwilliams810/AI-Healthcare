{
 "cells": [
  {
   "cell_type": "code",
   "execution_count": 56,
   "metadata": {},
   "outputs": [],
   "source": [
    "import numpy as np\n",
    "import pandas as pd\n",
    "import seaborn as sns\n",
    "import matplotlib.pyplot as plt\n",
    "from plotly.subplots import make_subplots\n",
    "import plotly.graph_objects as go"
   ]
  },
  {
   "cell_type": "code",
   "execution_count": 2,
   "metadata": {},
   "outputs": [],
   "source": [
    "path = r\"C:\\Users\\aleci\\OneDrive\\Desktop\\AI in Healthcare\\mimic-iii-clinical-database-demo-1.4\\mimic-iii-clinical-database-demo-1.4\""
   ]
  },
  {
   "cell_type": "code",
   "execution_count": 3,
   "metadata": {},
   "outputs": [],
   "source": [
    "patients_df = pd.read_csv(path + r\"\\PATIENTS.csv\")\n",
    "\n",
    "patients_df['dob'] = pd.to_datetime(patients_df['dob'], errors='coerce')\n",
    "patients_df['dod'] = pd.to_datetime(patients_df['dod'], errors='coerce')\n",
    "\n",
    "patients_df = patients_df[(patients_df['dob'].dt.year >= 1900)]\n",
    "\n",
    "patients_df['age'] = np.floor_divide((patients_df['dod'] - patients_df['dob']).dt.days, 365)"
   ]
  },
  {
   "cell_type": "code",
   "execution_count": 4,
   "metadata": {},
   "outputs": [],
   "source": [
    "labevents_df = pd.read_csv(path + r\"\\LABEVENTS.csv\")"
   ]
  },
  {
   "cell_type": "code",
   "execution_count": 5,
   "metadata": {},
   "outputs": [],
   "source": [
    "patient_lab_event_df = pd.merge(labevents_df, patients_df, on='subject_id')"
   ]
  },
  {
   "cell_type": "code",
   "execution_count": null,
   "metadata": {},
   "outputs": [],
   "source": [
    "patient_lab_event_df['flag'].value_counts(dropna=False)"
   ]
  },
  {
   "cell_type": "code",
   "execution_count": 7,
   "metadata": {},
   "outputs": [],
   "source": [
    "patient_lab_event_df['flag'] = patient_lab_event_df['flag'].fillna('no flag')"
   ]
  },
  {
   "cell_type": "code",
   "execution_count": null,
   "metadata": {},
   "outputs": [],
   "source": [
    "plt.figure(figsize=(18, 10))\n",
    "\n",
    "sns.boxenplot(data=patient_lab_event_df, x='flag', y='age')\n",
    "plt.xlabel('Lab Event Flag')\n",
    "plt.ylabel('Age')\n",
    "plt.title('Distribution of Age by Lab Event Flag')\n",
    "\n",
    "plt.tight_layout()\n",
    "plt.show()"
   ]
  },
  {
   "cell_type": "code",
   "execution_count": null,
   "metadata": {},
   "outputs": [],
   "source": [
    "plt.figure(figsize=(18, 10))\n",
    "\n",
    "plt.subplot(1,2,1)\n",
    "sns.kdeplot(\n",
    "    data=patient_lab_event_df[patient_lab_event_df['gender'] == 'M'], \n",
    "    x='age', \n",
    "    hue='flag', \n",
    "    common_norm=False, \n",
    "    fill=True, \n",
    "    alpha=0.5\n",
    ")\n",
    "plt.xlabel('Age')\n",
    "plt.ylabel('Density')\n",
    "plt.title(\"Male\")\n",
    "\n",
    "plt.subplot(1,2,2)\n",
    "sns.kdeplot(\n",
    "    data=patient_lab_event_df[patient_lab_event_df['gender'] == 'F'], \n",
    "    x='age', \n",
    "    hue='flag', \n",
    "    common_norm=False, \n",
    "    fill=True, \n",
    "    alpha=0.5\n",
    ")\n",
    "plt.xlabel('Age')\n",
    "plt.ylabel('Density')\n",
    "plt.title(\"Female\")\n",
    "\n",
    "plt.subplots_adjust(top=0.85)\n",
    "plt.suptitle('Distribution of Age by Lab Event Flag Across Gender', fontsize=16)\n",
    "\n",
    "plt.tight_layout()\n",
    "plt.show()"
   ]
  },
  {
   "cell_type": "code",
   "execution_count": null,
   "metadata": {},
   "outputs": [],
   "source": [
    "cptevents_df = pd.read_csv(path + r\"\\CPTEVENTS.csv\")\n",
    "\n",
    "cptevents_df['subsectionheader'].value_counts()\n"
   ]
  },
  {
   "cell_type": "code",
   "execution_count": 11,
   "metadata": {},
   "outputs": [],
   "source": [
    "cptevents_filtered = cptevents_df[cptevents_df['subsectionheader'] == 'Critical care services']\n",
    "patient_cpt_event_df = pd.merge(cptevents_filtered, patients_df, on='subject_id')"
   ]
  },
  {
   "cell_type": "code",
   "execution_count": null,
   "metadata": {},
   "outputs": [],
   "source": [
    "plt.figure(figsize=(18, 10))\n",
    "\n",
    "sns.violinplot(data=patient_cpt_event_df, x='gender', y='age')\n",
    "plt.xlabel('Gender')\n",
    "plt.ylabel('Age')\n",
    "plt.title('Distribution of Age Across Gender for Patients coded for Critical Care Services')\n",
    "\n",
    "plt.tight_layout()\n",
    "plt.show()"
   ]
  },
  {
   "cell_type": "code",
   "execution_count": null,
   "metadata": {},
   "outputs": [],
   "source": [
    "admissions_df = pd.read_csv(path + r\"\\ADMISSIONS.csv\")\n",
    "\n",
    "admissions_df['insurance'].value_counts()"
   ]
  },
  {
   "cell_type": "code",
   "execution_count": 14,
   "metadata": {},
   "outputs": [],
   "source": [
    "cpt_admissions_merge = pd.merge(admissions_df, patient_cpt_event_df, on='subject_id')"
   ]
  },
  {
   "cell_type": "code",
   "execution_count": 48,
   "metadata": {},
   "outputs": [],
   "source": [
    "## Bonus Package plotnine\n",
    "from plotnine import ggplot, aes, geom_point, theme_minimal, labs, theme, element_text"
   ]
  },
  {
   "cell_type": "code",
   "execution_count": null,
   "metadata": {},
   "outputs": [],
   "source": [
    "plot = (\n",
    "    ggplot(cpt_admissions_merge, aes(x='insurance', y='age', color='gender')) +\n",
    "    geom_point(size=3, alpha=0.7) +\n",
    "    theme_minimal() +\n",
    "    labs(\n",
    "        title='Distribution of Age Across Gender and Insurance Type',\n",
    "        x='Insurance Type',\n",
    "        y='Age'\n",
    "    ) +\n",
    "    theme(axis_text_x=element_text(rotation=45, hjust=1))\n",
    ")\n",
    "\n",
    "plot.show()"
   ]
  },
  {
   "cell_type": "code",
   "execution_count": 16,
   "metadata": {},
   "outputs": [],
   "source": [
    "cpt_admissions_merge['admittime'] = pd.to_datetime(cpt_admissions_merge['admittime'])\n",
    "cpt_admissions_merge['dischtime'] = pd.to_datetime(cpt_admissions_merge['dischtime'])\n",
    "\n",
    "cpt_admissions_merge['length_of_stay'] = (cpt_admissions_merge['dischtime'] - cpt_admissions_merge['admittime']).dt.total_seconds() / 3600"
   ]
  },
  {
   "cell_type": "code",
   "execution_count": null,
   "metadata": {},
   "outputs": [],
   "source": [
    "avg_los = cpt_admissions_merge.groupby(['gender', 'hospital_expire_flag'])['length_of_stay'].mean().reset_index()\n",
    "avg_los"
   ]
  },
  {
   "cell_type": "code",
   "execution_count": 53,
   "metadata": {},
   "outputs": [],
   "source": [
    "import plotly.io as pio\n",
    "pio.renderers.default = 'notebook'\n"
   ]
  },
  {
   "cell_type": "code",
   "execution_count": null,
   "metadata": {},
   "outputs": [],
   "source": [
    "fig = make_subplots(rows=1, cols=2, subplot_titles=['Survived', 'Deceased'])\n",
    "\n",
    "survived_data = cpt_admissions_merge[cpt_admissions_merge['hospital_expire_flag'] == 0]\n",
    "deceased_data = cpt_admissions_merge[cpt_admissions_merge['hospital_expire_flag'] == 1]\n",
    "\n",
    "# Add scatter plot for survived patients\n",
    "fig.add_trace(\n",
    "    go.Scatter(\n",
    "        x=survived_data['age'],\n",
    "        y=survived_data['length_of_stay'],\n",
    "        mode='markers',\n",
    "        marker=dict(\n",
    "            color=survived_data['gender'].apply(lambda x: 'blue' if x == 'M' else 'pink'),\n",
    "            size=8\n",
    "        ),\n",
    "        name='Male' if survived_data['gender'].iloc[0] == 'M' else 'Female',\n",
    "        text=survived_data['gender'],\n",
    "        hovertemplate='<b>Gender: %{text}</b><br>Age: %{x}<br>LOS: %{y:.2f} hours',\n",
    "        showlegend=True \n",
    "    ),\n",
    "    row=1,\n",
    "    col=1\n",
    ")\n",
    "\n",
    "# Plot mean LOS for each gender in the survived group\n",
    "for gender, color in zip(['M', 'F'], ['blue', 'pink']):\n",
    "    mean_los_survived = survived_data[survived_data['gender'] == gender]['length_of_stay'].mean()\n",
    "    fig.add_trace(\n",
    "        go.Scatter(\n",
    "            x=[survived_data['age'].min(), survived_data['age'].max()],\n",
    "            y=[mean_los_survived, mean_los_survived],\n",
    "            mode='lines',\n",
    "            line=dict(dash='dot', color=color),\n",
    "            name='Mean LOS (Male)' if gender == 'M' else 'Mean LOS (Female)',\n",
    "            showlegend=True \n",
    "        ),\n",
    "        row=1,\n",
    "        col=1\n",
    "    )\n",
    "\n",
    "# Add scatter plot for deceased patients\n",
    "fig.add_trace(\n",
    "    go.Scatter(\n",
    "        x=deceased_data['age'],\n",
    "        y=deceased_data['length_of_stay'],\n",
    "        mode='markers',\n",
    "        marker=dict(\n",
    "            color=deceased_data['gender'].apply(lambda x: 'blue' if x == 'M' else 'pink'),\n",
    "            size=8\n",
    "        ),\n",
    "        name='Male' if 'M' in deceased_data['gender'].values else 'Female',\n",
    "        text=deceased_data['gender'],\n",
    "        hovertemplate='<b>Gender: %{text}</b><br>Age: %{x}<br>LOS: %{y:.2f} hours',\n",
    "        showlegend=True\n",
    "    ),\n",
    "    row=1,\n",
    "    col=2\n",
    ")\n",
    "\n",
    "for gender, color in zip(['M', 'F'], ['blue', 'pink']):\n",
    "    mean_los_deceased = deceased_data[deceased_data['gender'] == gender]['length_of_stay'].mean()\n",
    "    fig.add_trace(\n",
    "        go.Scatter(\n",
    "            x=[deceased_data['age'].min(), deceased_data['age'].max()],\n",
    "            y=[mean_los_deceased, mean_los_deceased],\n",
    "            mode='lines',\n",
    "            line=dict(dash='dot', color=color),\n",
    "            name='Mean LOS (Male)' if gender == 'M' else 'Mean LOS (Female)',\n",
    "            showlegend=False\n",
    "        ),\n",
    "        row=1,\n",
    "        col=2\n",
    "    )\n",
    "\n",
    "fig.update_layout(\n",
    "    title=\"Length of Stay vs Age by Gender and Expiration Flag\",\n",
    "    showlegend=True\n",
    ")\n",
    "\n",
    "fig.show()"
   ]
  }
 ],
 "metadata": {
  "kernelspec": {
   "display_name": "Python 3",
   "language": "python",
   "name": "python3"
  },
  "language_info": {
   "codemirror_mode": {
    "name": "ipython",
    "version": 3
   },
   "file_extension": ".py",
   "mimetype": "text/x-python",
   "name": "python",
   "nbconvert_exporter": "python",
   "pygments_lexer": "ipython3",
   "version": "3.12.1"
  }
 },
 "nbformat": 4,
 "nbformat_minor": 2
}
