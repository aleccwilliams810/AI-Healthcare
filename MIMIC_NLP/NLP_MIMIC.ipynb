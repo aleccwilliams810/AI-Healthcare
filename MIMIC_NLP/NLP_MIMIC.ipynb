{
  "cells": [
    {
      "cell_type": "markdown",
      "metadata": {
        "colab_type": "text",
        "id": "view-in-github"
      },
      "source": [
        "<a href=\"https://colab.research.google.com/github/aleccwilliams810/AI-Healthcare/blob/main/NLP_MIMIC.ipynb\" target=\"_parent\"><img src=\"https://colab.research.google.com/assets/colab-badge.svg\" alt=\"Open In Colab\"/></a>"
      ]
    },
    {
      "cell_type": "code",
      "execution_count": null,
      "metadata": {
        "colab": {
          "base_uri": "https://localhost:8080/",
          "height": 419
        },
        "id": "AUNMRi_riW6D",
        "outputId": "23b95c2f-e956-4144-d858-63c2fb84fae7"
      },
      "outputs": [],
      "source": [
        "!pip install numpy==1.24.0"
      ]
    },
    {
      "cell_type": "code",
      "execution_count": null,
      "metadata": {
        "colab": {
          "base_uri": "https://localhost:8080/"
        },
        "collapsed": true,
        "id": "zUD4LQQSXMe-",
        "outputId": "efa111fd-0fca-4a74-c003-db4139d2654b"
      },
      "outputs": [],
      "source": [
        "!pip install --upgrade google-cloud-bigquery\n",
        "!pip install -U spacy\n",
        "!pip install scispacy\n",
        "!pip install gensim\n",
        "!python -m spacy download en_core_web_sm\n",
        "!pip install https://s3-us-west-2.amazonaws.com/ai2-s2-scispacy/releases/v0.4.0/en_core_sci_sm-0.4.0.tar.gz"
      ]
    },
    {
      "cell_type": "code",
      "execution_count": 1,
      "metadata": {
        "id": "E7TZUtJHXTox"
      },
      "outputs": [],
      "source": [
        "from google.colab import auth\n",
        "from google.cloud import bigquery\n",
        "\n",
        "import spacy\n",
        "import scispacy\n",
        "from spacy import displacy\n",
        "\n",
        "import pandas as pd\n",
        "pd.options.mode.chained_assignment = None\n",
        "\n",
        "import numpy as np\n",
        "\n",
        "from gensim.models import word2vec\n",
        "from sklearn.manifold import TSNE\n",
        "import matplotlib.pyplot as plt\n",
        "\n",
        "%matplotlib inline"
      ]
    },
    {
      "cell_type": "code",
      "execution_count": null,
      "metadata": {
        "colab": {
          "base_uri": "https://localhost:8080/"
        },
        "id": "bBNU538-bSrF",
        "outputId": "f4dd04b1-8ce1-416d-90e0-9bca5ca091c9"
      },
      "outputs": [],
      "source": [
        "spacy_model = spacy.load(\"en_core_web_sm\")\n",
        "scispacy_model = spacy.load(\"en_core_sci_sm\")"
      ]
    },
    {
      "cell_type": "code",
      "execution_count": 3,
      "metadata": {
        "id": "zS_GKKjlZhZT"
      },
      "outputs": [],
      "source": [
        "auth.authenticate_user()\n",
        "client = bigquery.Client(project=\"careful-broker-438616-s1\")\n",
        "\n",
        "icd9_code = '7840' #Filtering MIMIC NoteEvent data for those that have 'Headache' (784.0) as the diagnosis\n",
        "\n",
        "query = \"\"\"\n",
        "SELECT n.TEXT\n",
        "FROM `physionet-data.mimiciii_notes.noteevents` n\n",
        "INNER JOIN `physionet-data.mimiciii_clinical.diagnoses_icd` d\n",
        "ON d.HADM_ID = n.HADM_ID\n",
        "WHERE d.ICD9_CODE = '7840'\n",
        "AND n.CATEGORY = 'Discharge summary'\n",
        "\"\"\"\n",
        "\n",
        "query_job = client.query(query)\n",
        "\n",
        "df = query_job.result().to_dataframe()"
      ]
    },
    {
      "cell_type": "code",
      "execution_count": null,
      "metadata": {
        "collapsed": true,
        "id": "vamelWXVbvvq"
      },
      "outputs": [],
      "source": [
        "spacy_ents = []\n",
        "scispacy_ents = []\n",
        "\n",
        "for text in df['TEXT']:\n",
        "  spacy_doc = spacy_model(text)\n",
        "  spacy_ents.append([ent.text for ent in spacy_doc.ents])\n",
        "\n",
        "  scispacy_doc = scispacy_model(text)\n",
        "  scispacy_ents.append([ent.text for ent in scispacy_doc.ents])"
      ]
    },
    {
      "cell_type": "code",
      "execution_count": 5,
      "metadata": {
        "id": "g-V-nDP8kyb7"
      },
      "outputs": [],
      "source": [
        "spacy_w2v = word2vec.Word2Vec(spacy_ents, min_count=1)\n",
        "scispacy_w2v = word2vec.Word2Vec(scispacy_ents, min_count=1)"
      ]
    },
    {
      "cell_type": "code",
      "execution_count": 6,
      "metadata": {
        "id": "KuagLnohcPxH"
      },
      "outputs": [],
      "source": [
        "def tsne_plot(model, title):\n",
        "    labels = []\n",
        "    tokens = []\n",
        "\n",
        "    for word in model.wv.key_to_index.keys():\n",
        "        tokens.append(model.wv[word])\n",
        "        labels.append(word)\n",
        "\n",
        "    tokens = np.array(tokens)\n",
        "    tsne_model = TSNE(perplexity=20, early_exaggeration=12, n_components=2, init='pca', n_iter=1000, random_state=23)\n",
        "    new_values = tsne_model.fit_transform(tokens)\n",
        "\n",
        "    x = [value[0] for value in new_values]\n",
        "    y = [value[1] for value in new_values]\n",
        "\n",
        "    plt.figure(figsize=(16, 16))\n",
        "    for i in range(len(x)):\n",
        "        plt.scatter(x[i], y[i])\n",
        "        plt.annotate(labels[i],\n",
        "                     xy=(x[i], y[i]),\n",
        "                     xytext=(5, 2),\n",
        "                     textcoords='offset points',\n",
        "                     ha='right',\n",
        "                     va='bottom')\n",
        "    plt.title(title)\n",
        "    plt.show()\n"
      ]
    },
    {
      "cell_type": "code",
      "execution_count": null,
      "metadata": {
        "colab": {
          "base_uri": "https://localhost:8080/"
        },
        "id": "qTRMhR_yd2wp",
        "outputId": "49992eb7-21a7-4562-b0e1-5f2021408037"
      },
      "outputs": [],
      "source": [
        "tsne_plot(spacy_w2v, \"Spacy Word2Vec\")"
      ]
    },
    {
      "cell_type": "code",
      "execution_count": null,
      "metadata": {
        "id": "26-nliRMe-EK"
      },
      "outputs": [],
      "source": [
        "tsne_plot(scispacy_w2v, \"SciSpacy Word2Vec\")"
      ]
    },
    {
      "cell_type": "code",
      "execution_count": null,
      "metadata": {
        "id": "ZbJ4b1ZPfCQp"
      },
      "outputs": [],
      "source": []
    }
  ],
  "metadata": {
    "colab": {
      "authorship_tag": "ABX9TyO8qU0fVIJxV5FMU33uX/3H",
      "include_colab_link": true,
      "provenance": []
    },
    "kernelspec": {
      "display_name": "Python 3",
      "name": "python3"
    },
    "language_info": {
      "name": "python"
    }
  },
  "nbformat": 4,
  "nbformat_minor": 0
}
